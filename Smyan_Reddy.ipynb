{
 "cells": [
  {
   "cell_type": "code",
   "execution_count": 3,
   "metadata": {},
   "outputs": [
    {
     "name": "stdout",
     "output_type": "stream",
     "text": [
      "Rock, Paper,Scissors By:Smyan\n",
      "What did you get\n",
      "Rock\n",
      "Paper\n",
      "or ScissorsRock\n",
      "You lost\n",
      "I got Paper\n"
     ]
    }
   ],
   "source": [
    "print(\"Rock, Paper,Scissors By:Smyan\")\n",
    "from random import randint\n",
    "q=['Rock','Paper','Scissors']\n",
    "e=q[randint(0,2)]\n",
    "w=input(\"What did you get\\nRock\\nPaper\\nor Scissors\")\n",
    "if e == w:\n",
    "  print(\"You got a tie!\")\n",
    "elif e == \"Rock\":\n",
    "  if w == \"Scissors\":\n",
    "    print(\"You lost\")\n",
    "    p\n",
    "    rint(\"I got Rock\")\n",
    "  elif w == \"Paper\":\n",
    "    print(\"You won\")\n",
    "    print(\"I got Rock\")\n",
    "elif e == \"Paper\":\n",
    "  if w == \"Rock\":\n",
    "    print(\"You lost\")\n",
    "    print(\"I got Paper\")\n",
    "  elif w == \"Scissors\":\n",
    "    print(\"You won\")\n",
    "    print(\"I got Paper\")\n",
    "elif e == \"Scissors\":\n",
    "  if w == \"Paper\":\n",
    "    print(\"You lost\")\n",
    "    print(\"I got Scissors\")\n",
    "  elif w == \"Rock\":\n",
    "    print(\"You won\")\n",
    "    print(\"I got Scissors\") \n",
    "else:\n",
    "  print(\"Something is wrong\\nPlease try again\")"
   ]
  },
  {
   "cell_type": "code",
   "execution_count": 5,
   "metadata": {},
   "outputs": [
    {
     "name": "stdout",
     "output_type": "stream",
     "text": [
      "Password Generator By: Smyan\n",
      "ļʔĶϤϋ̲̌\n"
     ]
    }
   ],
   "source": [
    "print(\"Password Generator By: Smyan\")\n",
    "import random\n",
    "h=random.randint(1,1000)\n",
    "x = chr(h)\n",
    "a=random.randint(1,1000)\n",
    "b = chr(a)\n",
    "c=random.randint(1,1000)\n",
    "d = chr(c)\n",
    "e=random.randint(1,1000)\n",
    "f = chr(e)\n",
    "g=random.randint(1,1000)\n",
    "p = chr(g)\n",
    "i=random.randint(1,1000)\n",
    "j = chr(i)\n",
    "k=random.randint(1,1000)\n",
    "l = chr(k)\n",
    "m=random.randint(1,1000)\n",
    "n = chr(m)\n",
    "print(x+b+d+f+p+j+l+n)"
   ]
  },
  {
   "cell_type": "code",
   "execution_count": 6,
   "metadata": {},
   "outputs": [
    {
     "name": "stdout",
     "output_type": "stream",
     "text": [
      "Madlib By:Smyan\n",
      "Enter a placeSmyrna\n",
      "Enter a number171\n",
      "Enter a plural noundogs\n",
      "Enter a noundog\n",
      "Enter a adjectivenice\n",
      "Enter a verbrun\n",
      "Enter a verbjump\n",
      "Enter a adverbslowly\n",
      "Enter a placeSuwanee\n",
      "Enter a placeJohns Creek\n",
      "Enter a placeAtlanta\n",
      "Enter a verbsing\n",
      "Hi I am Smyan the magician.\n",
      "I know everything about you. Let's give it a try.\n",
      "You live in Smyrna. You have 171 dogs. Your dog is nice. You like to run. You like to jump slowly.\n",
      "Your parents live in Suwanee. Your brother lives in Johns Creek. Your sister lives in Atlanta.\n",
      "You hate to sing. Was I right?.\n"
     ]
    }
   ],
   "source": [
    "print(\"Madlib By:Smyan\")\n",
    "a=input(\"Enter a place\")\n",
    "b=input(\"Enter a number\")\n",
    "c=input(\"Enter a plural noun\")\n",
    "d=input(\"Enter a noun\")\n",
    "e=input(\"Enter a adjective\")\n",
    "f=input(\"Enter a verb\")\n",
    "g=input(\"Enter a verb\")\n",
    "h=input(\"Enter a adverb\")\n",
    "i=input(\"Enter a place\")\n",
    "j=input(\"Enter a place\")\n",
    "k=input(\"Enter a place\")\n",
    "l=input(\"Enter a verb\")\n",
    "print(\"Hi I am Smyan the magician.\") \n",
    "print(\"I know everything about you. Let's give it a try.\") \n",
    "print(\"You live in\"+\" \"+a+\". You have \"+b+\" \"+c+\". Your \"+d+\" is \"+e+\". \"+\"You like to \"+f+\". \"+\"You like to \"+g+\" \"+h+\".\")\n",
    "print(\"Your parents live in \"+i+\". Your brother lives in \"+j+\". Your sister lives in \"+k+\".\")\n",
    "print(\"You hate to \"+l+\". Was I right?.\")"
   ]
  },
  {
   "cell_type": "code",
   "execution_count": null,
   "metadata": {},
   "outputs": [],
   "source": []
  }
 ],
 "metadata": {
  "kernelspec": {
   "display_name": "Python 3",
   "language": "python",
   "name": "python3"
  },
  "language_info": {
   "codemirror_mode": {
    "name": "ipython",
    "version": 3
   },
   "file_extension": ".py",
   "mimetype": "text/x-python",
   "name": "python",
   "nbconvert_exporter": "python",
   "pygments_lexer": "ipython3",
   "version": "3.8.3"
  }
 },
 "nbformat": 4,
 "nbformat_minor": 4
}
